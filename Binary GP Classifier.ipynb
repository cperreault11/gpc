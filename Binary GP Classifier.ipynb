{
 "cells": [
  {
   "cell_type": "code",
   "execution_count": 2,
   "metadata": {},
   "outputs": [],
   "source": [
    "import matplotlib.pyplot as plt\n",
    "import pandas as pd\n",
    "import numpy as np\n",
    "import matplotlib.pyplot as plt\n",
    "import matplotlib.image as img\n",
    "import torchvision\n",
    "import torch\n",
    "import torch.nn as nn\n",
    "import torch.optim as optim\n",
    "import signal\n",
    "import IPython\n",
    "from sklearn.gaussian_process import GaussianProcessClassifier\n",
    "from sklearn.gaussian_process.kernels import RBF,WhiteKernel\n"
   ]
  },
  {
   "cell_type": "code",
   "execution_count": 16,
   "metadata": {},
   "outputs": [],
   "source": [
    "# load data from the csv\n",
    "X = pd.read_csv('X_binary.csv')\n",
    "Y = pd.read_csv('Y_binary.csv')\n",
    "X_wn = pd.read_csv('X_binary_wn.csv')\n",
    "Y_wn = pd.read_csv('Y_binary_wn.csv')\n",
    "X_mb = pd.read_csv('X_binary_mb.csv')\n",
    "Y_mb = pd.read_csv('Y_binary_mb.csv')\n",
    "X_rc = pd.read_csv('X_binary_rc.csv')\n",
    "Y_rc = pd.read_csv('Y_binary_rc.csv')\n",
    "X_pgd = pd.read_csv('X_binary_pgd.csv')\n",
    "Y_pgd = pd.read_csv('Y_binary_pgd.csv')\n",
    "X_fgm = pd.read_csv('X_binary_fgm.csv')\n",
    "Y_fgm = pd.read_csv('Y_binary_fgm.csv')\n",
    "# ideally will test the adversarial examples with different values of epsilon\n",
    "del X['Unnamed: 0']\n",
    "del Y['Unnamed: 0']\n",
    "del X_wn['Unnamed: 0']\n",
    "del Y_wn['Unnamed: 0']\n",
    "del X_mb['Unnamed: 0']\n",
    "del Y_mb['Unnamed: 0']\n",
    "del X_rc['Unnamed: 0']\n",
    "del Y_rc['Unnamed: 0']\n",
    "del X_pgd['Unnamed: 0']\n",
    "del Y_pgd['Unnamed: 0']\n",
    "del X_fgm['Unnamed: 0']\n",
    "del Y_fgm['Unnamed: 0']"
   ]
  },
  {
   "cell_type": "code",
   "execution_count": 5,
   "metadata": {},
   "outputs": [
    {
     "data": {
      "text/html": [
       "<div>\n",
       "<style scoped>\n",
       "    .dataframe tbody tr th:only-of-type {\n",
       "        vertical-align: middle;\n",
       "    }\n",
       "\n",
       "    .dataframe tbody tr th {\n",
       "        vertical-align: top;\n",
       "    }\n",
       "\n",
       "    .dataframe thead th {\n",
       "        text-align: right;\n",
       "    }\n",
       "</style>\n",
       "<table border=\"1\" class=\"dataframe\">\n",
       "  <thead>\n",
       "    <tr style=\"text-align: right;\">\n",
       "      <th></th>\n",
       "      <th>0</th>\n",
       "      <th>1</th>\n",
       "      <th>2</th>\n",
       "      <th>3</th>\n",
       "      <th>4</th>\n",
       "      <th>5</th>\n",
       "      <th>6</th>\n",
       "      <th>7</th>\n",
       "      <th>8</th>\n",
       "      <th>9</th>\n",
       "      <th>10</th>\n",
       "      <th>11</th>\n",
       "      <th>12</th>\n",
       "      <th>13</th>\n",
       "      <th>14</th>\n",
       "      <th>15</th>\n",
       "    </tr>\n",
       "  </thead>\n",
       "  <tbody>\n",
       "    <tr>\n",
       "      <th>0</th>\n",
       "      <td>-3.812986</td>\n",
       "      <td>-0.286964</td>\n",
       "      <td>4.604299</td>\n",
       "      <td>35.078667</td>\n",
       "      <td>-6.615473</td>\n",
       "      <td>0.939502</td>\n",
       "      <td>-3.363581</td>\n",
       "      <td>-8.159395</td>\n",
       "      <td>-8.433389</td>\n",
       "      <td>22.234674</td>\n",
       "      <td>-12.153085</td>\n",
       "      <td>9.386999</td>\n",
       "      <td>2.894883</td>\n",
       "      <td>-6.164980</td>\n",
       "      <td>16.602814</td>\n",
       "      <td>26.416980</td>\n",
       "    </tr>\n",
       "    <tr>\n",
       "      <th>1</th>\n",
       "      <td>-3.538520</td>\n",
       "      <td>21.756401</td>\n",
       "      <td>1.190242</td>\n",
       "      <td>-0.082501</td>\n",
       "      <td>-3.919954</td>\n",
       "      <td>13.135556</td>\n",
       "      <td>0.702808</td>\n",
       "      <td>-2.439866</td>\n",
       "      <td>-8.694609</td>\n",
       "      <td>-3.974821</td>\n",
       "      <td>4.924358</td>\n",
       "      <td>22.575539</td>\n",
       "      <td>15.769655</td>\n",
       "      <td>19.353134</td>\n",
       "      <td>-2.912498</td>\n",
       "      <td>19.707422</td>\n",
       "    </tr>\n",
       "    <tr>\n",
       "      <th>2</th>\n",
       "      <td>-3.398087</td>\n",
       "      <td>17.554062</td>\n",
       "      <td>5.695118</td>\n",
       "      <td>-0.515817</td>\n",
       "      <td>-3.049484</td>\n",
       "      <td>11.932053</td>\n",
       "      <td>1.146629</td>\n",
       "      <td>8.616639</td>\n",
       "      <td>-0.788823</td>\n",
       "      <td>-1.544113</td>\n",
       "      <td>6.023301</td>\n",
       "      <td>9.956977</td>\n",
       "      <td>12.342088</td>\n",
       "      <td>16.125227</td>\n",
       "      <td>-4.858433</td>\n",
       "      <td>15.043270</td>\n",
       "    </tr>\n",
       "    <tr>\n",
       "      <th>3</th>\n",
       "      <td>-5.285937</td>\n",
       "      <td>16.365414</td>\n",
       "      <td>5.255232</td>\n",
       "      <td>2.469817</td>\n",
       "      <td>-3.194219</td>\n",
       "      <td>12.516466</td>\n",
       "      <td>1.657523</td>\n",
       "      <td>6.582751</td>\n",
       "      <td>-0.703856</td>\n",
       "      <td>-3.155180</td>\n",
       "      <td>5.944385</td>\n",
       "      <td>9.230529</td>\n",
       "      <td>10.916442</td>\n",
       "      <td>15.390645</td>\n",
       "      <td>-3.357585</td>\n",
       "      <td>9.171375</td>\n",
       "    </tr>\n",
       "    <tr>\n",
       "      <th>4</th>\n",
       "      <td>-7.467062</td>\n",
       "      <td>20.695890</td>\n",
       "      <td>5.973962</td>\n",
       "      <td>2.264019</td>\n",
       "      <td>-2.700176</td>\n",
       "      <td>12.368381</td>\n",
       "      <td>2.724877</td>\n",
       "      <td>4.911435</td>\n",
       "      <td>-0.479425</td>\n",
       "      <td>-2.112359</td>\n",
       "      <td>3.925931</td>\n",
       "      <td>10.377959</td>\n",
       "      <td>11.628291</td>\n",
       "      <td>14.323488</td>\n",
       "      <td>-5.431015</td>\n",
       "      <td>10.884117</td>\n",
       "    </tr>\n",
       "    <tr>\n",
       "      <th>...</th>\n",
       "      <td>...</td>\n",
       "      <td>...</td>\n",
       "      <td>...</td>\n",
       "      <td>...</td>\n",
       "      <td>...</td>\n",
       "      <td>...</td>\n",
       "      <td>...</td>\n",
       "      <td>...</td>\n",
       "      <td>...</td>\n",
       "      <td>...</td>\n",
       "      <td>...</td>\n",
       "      <td>...</td>\n",
       "      <td>...</td>\n",
       "      <td>...</td>\n",
       "      <td>...</td>\n",
       "      <td>...</td>\n",
       "    </tr>\n",
       "    <tr>\n",
       "      <th>12660</th>\n",
       "      <td>-2.053174</td>\n",
       "      <td>-3.735342</td>\n",
       "      <td>4.073953</td>\n",
       "      <td>30.534727</td>\n",
       "      <td>-4.070761</td>\n",
       "      <td>-4.117536</td>\n",
       "      <td>8.272485</td>\n",
       "      <td>-8.267244</td>\n",
       "      <td>-11.655617</td>\n",
       "      <td>23.675398</td>\n",
       "      <td>-7.085707</td>\n",
       "      <td>12.549735</td>\n",
       "      <td>-1.564403</td>\n",
       "      <td>-16.272580</td>\n",
       "      <td>19.455292</td>\n",
       "      <td>30.018140</td>\n",
       "    </tr>\n",
       "    <tr>\n",
       "      <th>12661</th>\n",
       "      <td>-5.176876</td>\n",
       "      <td>19.133656</td>\n",
       "      <td>0.961101</td>\n",
       "      <td>0.559277</td>\n",
       "      <td>-1.847897</td>\n",
       "      <td>11.973285</td>\n",
       "      <td>1.311990</td>\n",
       "      <td>-2.207737</td>\n",
       "      <td>-7.290162</td>\n",
       "      <td>-8.526978</td>\n",
       "      <td>6.945979</td>\n",
       "      <td>20.981182</td>\n",
       "      <td>12.284266</td>\n",
       "      <td>18.142740</td>\n",
       "      <td>-3.401537</td>\n",
       "      <td>15.686848</td>\n",
       "    </tr>\n",
       "    <tr>\n",
       "      <th>12662</th>\n",
       "      <td>-3.971571</td>\n",
       "      <td>24.022484</td>\n",
       "      <td>-0.743280</td>\n",
       "      <td>-0.472061</td>\n",
       "      <td>1.041926</td>\n",
       "      <td>12.644293</td>\n",
       "      <td>1.255672</td>\n",
       "      <td>-3.738207</td>\n",
       "      <td>-10.146637</td>\n",
       "      <td>-6.984230</td>\n",
       "      <td>4.035910</td>\n",
       "      <td>25.528280</td>\n",
       "      <td>12.040321</td>\n",
       "      <td>19.790577</td>\n",
       "      <td>-8.135072</td>\n",
       "      <td>23.335283</td>\n",
       "    </tr>\n",
       "    <tr>\n",
       "      <th>12663</th>\n",
       "      <td>-4.013367</td>\n",
       "      <td>-3.144242</td>\n",
       "      <td>4.739986</td>\n",
       "      <td>37.599250</td>\n",
       "      <td>-4.475608</td>\n",
       "      <td>-8.564102</td>\n",
       "      <td>8.730025</td>\n",
       "      <td>-9.082135</td>\n",
       "      <td>-12.438127</td>\n",
       "      <td>25.457409</td>\n",
       "      <td>-7.955079</td>\n",
       "      <td>12.951879</td>\n",
       "      <td>-0.149164</td>\n",
       "      <td>-18.352274</td>\n",
       "      <td>19.030226</td>\n",
       "      <td>33.719986</td>\n",
       "    </tr>\n",
       "    <tr>\n",
       "      <th>12664</th>\n",
       "      <td>-5.385328</td>\n",
       "      <td>21.623838</td>\n",
       "      <td>1.444509</td>\n",
       "      <td>-0.491682</td>\n",
       "      <td>-1.546118</td>\n",
       "      <td>10.976456</td>\n",
       "      <td>5.899747</td>\n",
       "      <td>-2.740449</td>\n",
       "      <td>-8.446745</td>\n",
       "      <td>-5.945880</td>\n",
       "      <td>4.606038</td>\n",
       "      <td>20.599815</td>\n",
       "      <td>15.103744</td>\n",
       "      <td>14.178466</td>\n",
       "      <td>-0.109552</td>\n",
       "      <td>13.470027</td>\n",
       "    </tr>\n",
       "  </tbody>\n",
       "</table>\n",
       "<p>12665 rows × 16 columns</p>\n",
       "</div>"
      ],
      "text/plain": [
       "              0          1         2          3         4          5  \\\n",
       "0     -3.812986  -0.286964  4.604299  35.078667 -6.615473   0.939502   \n",
       "1     -3.538520  21.756401  1.190242  -0.082501 -3.919954  13.135556   \n",
       "2     -3.398087  17.554062  5.695118  -0.515817 -3.049484  11.932053   \n",
       "3     -5.285937  16.365414  5.255232   2.469817 -3.194219  12.516466   \n",
       "4     -7.467062  20.695890  5.973962   2.264019 -2.700176  12.368381   \n",
       "...         ...        ...       ...        ...       ...        ...   \n",
       "12660 -2.053174  -3.735342  4.073953  30.534727 -4.070761  -4.117536   \n",
       "12661 -5.176876  19.133656  0.961101   0.559277 -1.847897  11.973285   \n",
       "12662 -3.971571  24.022484 -0.743280  -0.472061  1.041926  12.644293   \n",
       "12663 -4.013367  -3.144242  4.739986  37.599250 -4.475608  -8.564102   \n",
       "12664 -5.385328  21.623838  1.444509  -0.491682 -1.546118  10.976456   \n",
       "\n",
       "              6         7          8          9         10         11  \\\n",
       "0     -3.363581 -8.159395  -8.433389  22.234674 -12.153085   9.386999   \n",
       "1      0.702808 -2.439866  -8.694609  -3.974821   4.924358  22.575539   \n",
       "2      1.146629  8.616639  -0.788823  -1.544113   6.023301   9.956977   \n",
       "3      1.657523  6.582751  -0.703856  -3.155180   5.944385   9.230529   \n",
       "4      2.724877  4.911435  -0.479425  -2.112359   3.925931  10.377959   \n",
       "...         ...       ...        ...        ...        ...        ...   \n",
       "12660  8.272485 -8.267244 -11.655617  23.675398  -7.085707  12.549735   \n",
       "12661  1.311990 -2.207737  -7.290162  -8.526978   6.945979  20.981182   \n",
       "12662  1.255672 -3.738207 -10.146637  -6.984230   4.035910  25.528280   \n",
       "12663  8.730025 -9.082135 -12.438127  25.457409  -7.955079  12.951879   \n",
       "12664  5.899747 -2.740449  -8.446745  -5.945880   4.606038  20.599815   \n",
       "\n",
       "              12         13         14         15  \n",
       "0       2.894883  -6.164980  16.602814  26.416980  \n",
       "1      15.769655  19.353134  -2.912498  19.707422  \n",
       "2      12.342088  16.125227  -4.858433  15.043270  \n",
       "3      10.916442  15.390645  -3.357585   9.171375  \n",
       "4      11.628291  14.323488  -5.431015  10.884117  \n",
       "...          ...        ...        ...        ...  \n",
       "12660  -1.564403 -16.272580  19.455292  30.018140  \n",
       "12661  12.284266  18.142740  -3.401537  15.686848  \n",
       "12662  12.040321  19.790577  -8.135072  23.335283  \n",
       "12663  -0.149164 -18.352274  19.030226  33.719986  \n",
       "12664  15.103744  14.178466  -0.109552  13.470027  \n",
       "\n",
       "[12665 rows x 16 columns]"
      ]
     },
     "execution_count": 5,
     "metadata": {},
     "output_type": "execute_result"
    }
   ],
   "source": [
    "X"
   ]
  },
  {
   "cell_type": "code",
   "execution_count": 4,
   "metadata": {},
   "outputs": [],
   "source": [
    "kernel =  RBF(1) + WhiteKernel(noise_level=.1) #first attempt at defining a kernel. Not exactly sure what will be best for this or how to tell\n",
    "gpc = GaussianProcessClassifier(kernel = kernel)"
   ]
  },
  {
   "cell_type": "code",
   "execution_count": 17,
   "metadata": {},
   "outputs": [],
   "source": [
    "# fit the gpc with a few datapoints at a time ? I think I can. Otherwise I can fit with all of them but it might take way too long.\n",
    "x = X.to_numpy()\n",
    "y = Y.to_numpy()\n",
    "x_wn = X_wn.to_numpy()\n",
    "y_wn = Y_wn.to_numpy()\n",
    "x_mb = X_mb.to_numpy()\n",
    "y_mb = Y_mb.to_numpy()\n",
    "x_rc = X_rc.to_numpy()\n",
    "y_rc = Y_rc.to_numpy()\n",
    "x_pgd = X_pgd.to_numpy()\n",
    "y_pgd = Y_pgd.to_numpy()\n",
    "x_fgm = X_fgm.to_numpy()\n",
    "y_fgm = Y_fgm.to_numpy()\n",
    "x_small = x[:3000]\n",
    "y_small = y[:3000].reshape(3000,)"
   ]
  },
  {
   "cell_type": "code",
   "execution_count": 6,
   "metadata": {},
   "outputs": [
    {
     "data": {
      "text/plain": [
       "GaussianProcessClassifier(kernel=RBF(length_scale=1) + WhiteKernel(noise_level=0.1))"
      ]
     },
     "execution_count": 6,
     "metadata": {},
     "output_type": "execute_result"
    }
   ],
   "source": [
    "gpc.fit(x_small, y_small)"
   ]
  },
  {
   "cell_type": "code",
   "execution_count": 18,
   "metadata": {},
   "outputs": [
    {
     "name": "stdout",
     "output_type": "stream",
     "text": [
      "0.9999210422424003 0.9924200552704303 0.9973154362416108 0.6577181208053692 0.884 0.943\n"
     ]
    }
   ],
   "source": [
    "print (gpc.score(x, y), gpc.score(x_wn, y_wn), gpc.score(x_mb, y_mb), gpc.score(x_rc,y_rc), gpc.score(x_pgd, y_pgd), gpc.score(x_fgm, y_fgm))"
   ]
  },
  {
   "cell_type": "code",
   "execution_count": 19,
   "metadata": {},
   "outputs": [
    {
     "data": {
      "text/plain": [
       "array([[0.44158327, 0.55841673],\n",
       "       [0.06832755, 0.93167245],\n",
       "       [0.17857312, 0.82142688],\n",
       "       ...,\n",
       "       [0.38022239, 0.61977761],\n",
       "       [0.13350112, 0.86649888],\n",
       "       [0.08405267, 0.91594733]])"
      ]
     },
     "execution_count": 19,
     "metadata": {},
     "output_type": "execute_result"
    }
   ],
   "source": [
    "u = []\n",
    "uwn = []\n",
    "umb = []\n",
    "urc = []\n",
    "upgd = []\n",
    "ufgm = []\n",
    "gpc.predict_proba(x, uncertainty=u)\n",
    "gpc.predict_proba(x_wn, uncertainty = uwn)\n",
    "gpc.predict_proba(x_mb, uncertainty = umb)\n",
    "gpc.predict_proba(x_rc, uncertainty = urc)\n",
    "gpc.predict_proba(x_pgd, uncertainty = upgd)\n",
    "gpc.predict_proba(x_fgm, uncertainty = ufgm)"
   ]
  },
  {
   "cell_type": "code",
   "execution_count": 20,
   "metadata": {},
   "outputs": [],
   "source": [
    "u = np.array(u)\n",
    "uwn = np.array(uwn)\n",
    "umb = np.array(umb)\n",
    "urc = np.array(urc)\n",
    "upgd = np.array(upgd)\n",
    "ufgm = np.array(ufgm)"
   ]
  },
  {
   "cell_type": "code",
   "execution_count": 21,
   "metadata": {},
   "outputs": [
    {
     "name": "stdout",
     "output_type": "stream",
     "text": [
      "0.26547154618265983 0.33641428580158533 0.2371890128783516 0.3920097316459086 0.9554102290977323 0.4327473170251047\n"
     ]
    }
   ],
   "source": [
    "print (u.mean(), uwn.mean(), umb.mean(), urc.mean(), upgd.mean(), ufgm.mean())\n",
    "# another question to explore is why rc has such low accuracy and reasonably low uncertainty still."
   ]
  },
  {
   "cell_type": "code",
   "execution_count": 79,
   "metadata": {},
   "outputs": [
    {
     "data": {
      "text/plain": [
       "<matplotlib.collections.PathCollection at 0x7fed35a76a60>"
      ]
     },
     "execution_count": 79,
     "metadata": {},
     "output_type": "execute_result"
    },
    {
     "data": {
      "image/png": "[encoded data removed]",
      "text/plain": [
       "<Figure size 432x288 with 1 Axes>"
      ]
     },
     "metadata": {
      "needs_background": "light"
     },
     "output_type": "display_data"
    }
   ],
   "source": [
    "plt.scatter(np.arange(30), u)"
   ]
  },
  {
   "cell_type": "code",
   "execution_count": 82,
   "metadata": {},
   "outputs": [
    {
     "data": {
      "text/plain": [
       "array([0, 1, 1, 1, 0, 1, 0, 0, 1, 0])"
      ]
     },
     "execution_count": 82,
     "metadata": {},
     "output_type": "execute_result"
    }
   ],
   "source": [
    "gpc.predict(x[3000:3010])"
   ]
  },
  {
   "cell_type": "code",
   "execution_count": 83,
   "metadata": {},
   "outputs": [
    {
     "data": {
      "text/plain": [
       "array([[0],\n",
       "       [1],\n",
       "       [1],\n",
       "       [1],\n",
       "       [0],\n",
       "       [1],\n",
       "       [0],\n",
       "       [0],\n",
       "       [1],\n",
       "       [0]])"
      ]
     },
     "execution_count": 83,
     "metadata": {},
     "output_type": "execute_result"
    }
   ],
   "source": [
    "y[3000:3010]"
   ]
  },
  {
   "cell_type": "code",
   "execution_count": null,
   "metadata": {},
   "outputs": [],
   "source": []
  }
 ],
 "metadata": {
  "interpreter": {
   "hash": "949777d72b0d2535278d3dc13498b2535136f6dfe0678499012e853ee9abcab1"
  },
  "kernelspec": {
   "display_name": "Python 3.9.9 64-bit",
   "language": "python",
   "name": "python3"
  },
  "language_info": {
   "codemirror_mode": {
    "name": "ipython",
    "version": 3
   },
   "file_extension": ".py",
   "mimetype": "text/x-python",
   "name": "python",
   "nbconvert_exporter": "python",
   "pygments_lexer": "ipython3",
   "version": "3.9.9"
  },
  "orig_nbformat": 4
 },
 "nbformat": 4,
 "nbformat_minor": 2
}
