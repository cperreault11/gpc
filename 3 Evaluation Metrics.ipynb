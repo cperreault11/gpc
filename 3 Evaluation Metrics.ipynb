{
 "cells": [
  {
   "cell_type": "code",
   "execution_count": 1,
   "metadata": {},
   "outputs": [],
   "source": [
    "from sklearn.gaussian_process import GaussianProcessClassifier\n",
    "from sklearn.gaussian_process.kernels import RBF,WhiteKernel\n",
    "import pandas as pd\n",
    "import numpy as np\n",
    "import matplotlib.pyplot as plt\n",
    "import matplotlib.image as img\n",
    "import torchvision\n",
    "import torch\n",
    "import torch.nn as nn\n",
    "import torch.optim as optim\n",
    "import signal\n",
    "import IPython\n",
    "import pickle"
   ]
  },
  {
   "cell_type": "code",
   "execution_count": 2,
   "metadata": {},
   "outputs": [],
   "source": [
    "# reload the trained gaussian process classifier\n",
    "gpc = pickle.load(open('gpc_trained.pkl','rb'))"
   ]
  },
  {
   "cell_type": "markdown",
   "metadata": {},
   "source": [
    "One advantage of having a classifier that can output epistemic uncertainty about a prediction is that it can abstain from making certain predictions. If we add this ability to our model, we need a new way to evaluate it. We'll explore a few different ideas around this.\n",
    "\n",
    "First, we'll start by comparing the accuracy of class probability outputs given different levels of uncertainty. To do this, we'll combine predictions from all the different datasets."
   ]
  },
  {
   "cell_type": "code",
   "execution_count": 3,
   "metadata": {},
   "outputs": [],
   "source": [
    "# Reload the datasets like in notebook 2\n",
    "X_orig = pd.read_csv('X_orig_binary.csv')\n",
    "Y_orig = pd.read_csv('Y_orig_binary.csv')\n",
    "X_test = pd.read_csv('X_test_binary.csv')\n",
    "Y_test = pd.read_csv('Y_test_binary.csv')\n",
    "X_white_noise = pd.read_csv('X_white_noise_binary.csv')\n",
    "Y_white_noise = pd.read_csv('Y_white_noise_binary.csv')\n",
    "X_motion_blur = pd.read_csv('X_motion_blur_binary.csv')\n",
    "Y_motion_blur = pd.read_csv('Y_motion_blur_binary.csv')\n",
    "X_reduced_contrast = pd.read_csv('X_reduced_contrast_binary.csv')\n",
    "Y_reduced_contrast = pd.read_csv('Y_reduced_contrast_binary.csv')\n",
    "X_fgm10 = pd.read_csv('X_fgm_10_binary.csv')\n",
    "Y_fgm10 = pd.read_csv('Y_fgm_10_binary.csv')\n",
    "X_fgm25 = pd.read_csv('X_fgm_25_binary.csv')\n",
    "Y_fgm25 = pd.read_csv('Y_fgm_25_binary.csv')\n",
    "X_fgm50 = pd.read_csv('X_fgm_50_binary.csv')\n",
    "Y_fgm50 = pd.read_csv('Y_fgm_50_binary.csv')\n",
    "X_fgm100 = pd.read_csv('X_fgm_100_binary.csv')\n",
    "Y_fgm100 = pd.read_csv('Y_fgm_100_binary.csv')\n",
    "X_pgd10 = pd.read_csv('X_pgd_10_binary.csv')\n",
    "Y_pgd10 = pd.read_csv('Y_pgd_10_binary.csv')\n",
    "X_pgd25 = pd.read_csv('X_pgd_25_binary.csv')\n",
    "Y_pgd25 = pd.read_csv('Y_pgd_25_binary.csv')\n",
    "X_pgd50 = pd.read_csv('X_pgd_50_binary.csv')\n",
    "Y_pgd50 = pd.read_csv('Y_pgd_50_binary.csv')\n",
    "X_pgd100 = pd.read_csv('X_pgd_100_binary.csv')\n",
    "Y_pgd100 = pd.read_csv('Y_pgd_100_binary.csv')\n",
    "\n",
    "del X_orig['Unnamed: 0']\n",
    "del Y_orig['Unnamed: 0']\n",
    "del Y_test['Unnamed: 0']\n",
    "del X_test['Unnamed: 0']\n",
    "del X_white_noise['Unnamed: 0']\n",
    "del Y_white_noise['Unnamed: 0']\n",
    "del X_motion_blur['Unnamed: 0']\n",
    "del Y_motion_blur['Unnamed: 0']\n",
    "del X_reduced_contrast['Unnamed: 0']\n",
    "del Y_reduced_contrast['Unnamed: 0']\n",
    "del X_fgm10['Unnamed: 0']\n",
    "del Y_fgm10['Unnamed: 0']\n",
    "del X_fgm25['Unnamed: 0']\n",
    "del Y_fgm25['Unnamed: 0']\n",
    "del X_fgm50['Unnamed: 0']\n",
    "del Y_fgm50['Unnamed: 0']\n",
    "del X_fgm100['Unnamed: 0']\n",
    "del Y_fgm100['Unnamed: 0']\n",
    "del X_pgd10['Unnamed: 0']\n",
    "del Y_pgd10['Unnamed: 0']\n",
    "del X_pgd25['Unnamed: 0']\n",
    "del Y_pgd25['Unnamed: 0']\n",
    "del X_pgd50['Unnamed: 0']\n",
    "del Y_pgd50['Unnamed: 0']\n",
    "del X_pgd100['Unnamed: 0']\n",
    "del Y_pgd100['Unnamed: 0']\n"
   ]
  },
  {
   "cell_type": "code",
   "execution_count": 4,
   "metadata": {},
   "outputs": [],
   "source": [
    "# convert the dataframes to np arrays for easier processing\n",
    "X_orig = X_orig.to_numpy()\n",
    "Y_orig = Y_orig.to_numpy()\n",
    "X_test = X_test.to_numpy()\n",
    "Y_test = Y_test.to_numpy()\n",
    "X_white_noise = X_white_noise.to_numpy()\n",
    "Y_white_noise = Y_white_noise.to_numpy()\n",
    "X_motion_blur = X_motion_blur.to_numpy()\n",
    "Y_motion_blur = Y_motion_blur.to_numpy()\n",
    "X_reduced_contrast = X_reduced_contrast.to_numpy()\n",
    "Y_reduced_contrast = Y_reduced_contrast.to_numpy()\n",
    "X_fgm10 = X_fgm10.to_numpy()\n",
    "Y_fgm10 = Y_fgm10.to_numpy()\n",
    "X_fgm25 = X_fgm25.to_numpy()\n",
    "Y_fgm25 = Y_fgm25.to_numpy()\n",
    "X_fgm50 = X_fgm50.to_numpy()\n",
    "Y_fgm50 = Y_fgm50.to_numpy()\n",
    "X_fgm100 = X_fgm100.to_numpy()\n",
    "Y_fgm100 = Y_fgm100.to_numpy()\n",
    "X_pgd10 = X_pgd10.to_numpy()\n",
    "Y_pgd10 = Y_pgd10.to_numpy()\n",
    "X_pgd25 = X_pgd25.to_numpy()\n",
    "Y_pgd25 = Y_pgd25.to_numpy()\n",
    "X_pgd50 = X_pgd50.to_numpy()\n",
    "Y_pgd50 = Y_pgd50.to_numpy()\n",
    "X_pgd100 = X_pgd100.to_numpy()\n",
    "Y_pgd100 = Y_pgd100.to_numpy()"
   ]
  },
  {
   "cell_type": "code",
   "execution_count": 87,
   "metadata": {},
   "outputs": [],
   "source": [
    "# Then, gather predictions over all the datasets:\n",
    "u_orig = []\n",
    "u_test = []\n",
    "u_white_noise = []\n",
    "u_motion_blur = []\n",
    "u_reduced_contrast = []\n",
    "u_fgm10 = []\n",
    "u_fgm25 = []\n",
    "u_fgm50 = []\n",
    "u_fgm100 = []\n",
    "u_pgd10 = []\n",
    "u_pgd25 = []\n",
    "u_pgd50 = []\n",
    "u_pgd100 = []\n",
    "X_orig_preds = gpc.predict_proba(X_orig, uncertainty = u_orig)\n",
    "X_test_preds = gpc.predict_proba(X_test, uncertainty= u_test)\n",
    "X_white_noise_preds = gpc.predict_proba(X_white_noise, uncertainty = u_white_noise)\n",
    "X_motion_blur_preds = gpc.predict_proba(X_motion_blur, uncertainty = u_motion_blur)\n",
    "X_reduced_contrast_preds = gpc.predict_proba(X_reduced_contrast, uncertainty = u_reduced_contrast)\n",
    "X_fgm10_preds = gpc.predict_proba(X_fgm10, uncertainty = u_fgm10)\n",
    "X_fgm25_preds = gpc.predict_proba(X_fgm25, uncertainty = u_fgm25)\n",
    "X_fgm50_preds = gpc.predict_proba(X_fgm50, uncertainty = u_fgm50)\n",
    "X_fgm100_preds = gpc.predict_proba(X_fgm100, uncertainty = u_fgm100)\n",
    "X_pgd10_preds = gpc.predict_proba(X_pgd10, uncertainty = u_pgd10)\n",
    "X_pgd25_preds = gpc.predict_proba(X_pgd25, uncertainty = u_pgd25)\n",
    "X_pgd50_preds = gpc.predict_proba(X_pgd50, uncertainty = u_pgd50)\n",
    "X_pgd100_preds = gpc.predict_proba(X_pgd100, uncertainty = u_pgd100)\n",
    "u_orig = np.array(u_orig)\n",
    "u_white_noise = np.array(u_white_noise)\n",
    "u_motion_blur = np.array(u_motion_blur)\n",
    "u_reduced_contrast = np.array(u_reduced_contrast)\n",
    "u_fgm10 = np.array(u_fgm10)\n",
    "u_fgm25 = np.array(u_fgm25)\n",
    "u_fgm50 = np.array(u_fgm50)\n",
    "u_fgm100 = np.array(u_fgm100)\n",
    "u_pgd10 = np.array(u_pgd10)\n",
    "u_pgd25 = np.array(u_pgd25)\n",
    "u_pgd50 = np.array(u_pgd50)\n",
    "u_pgd100 = np.array(u_pgd100)"
   ]
  },
  {
   "cell_type": "code",
   "execution_count": 88,
   "metadata": {},
   "outputs": [
    {
     "name": "stderr",
     "output_type": "stream",
     "text": [
      "/usr/local/lib/python3.9/site-packages/pandas/core/indexing.py:1732: SettingWithCopyWarning: \n",
      "A value is trying to be set on a copy of a slice from a DataFrame\n",
      "\n",
      "See the caveats in the documentation: https://pandas.pydata.org/pandas-docs/stable/user_guide/indexing.html#returning-a-view-versus-a-copy\n",
      "  self._setitem_single_block(indexer, value, name)\n"
     ]
    }
   ],
   "source": [
    "unaltered_preds = [X_orig_preds, X_test_preds]\n",
    "unaltered_uncertainties = [u_orig, u_test]\n",
    "unaltered_true = [Y_orig, Y_test]\n",
    "\n",
    "noisy_preds = [X_white_noise_preds,X_motion_blur_preds, X_reduced_contrast_preds]\n",
    "noisy_uncertainties = [u_white_noise,u_motion_blur,u_reduced_contrast]\n",
    "noisy_true = [Y_white_noise,Y_motion_blur,Y_reduced_contrast]\n",
    "\n",
    "adv_preds =[X_pgd10_preds,X_pgd25_preds,X_pgd50_preds,X_pgd100_preds,X_fgm10_preds,X_fgm25_preds,X_fgm50_preds,X_fgm100_preds]\n",
    "adv_uncertainties = [u_pgd10,u_pgd25,u_pgd50,u_pgd100,u_fgm10,u_fgm25,u_fgm50,u_fgm100]\n",
    "adv_true = [Y_pgd10,Y_pgd25,Y_pgd50,Y_pgd100,Y_fgm10,Y_fgm25,Y_fgm50,Y_fgm100]\n",
    "\n",
    "df_orig = pd.DataFrame(np.concatenate(unaltered_preds))\n",
    "df_orig['uncertainty'] = np.concatenate(unaltered_uncertainties,axis=1).reshape(-1,1)\n",
    "df_orig['true'] = np.concatenate(unaltered_true)\n",
    "df_orig['pred'] = 0\n",
    "df_orig['pred'].loc[df_orig[1] >.5] = 1\n",
    "df_orig['correct'] = df_orig['true'] == df_orig['pred']\n",
    "df_orig['confidence'] = pd.concat([df_orig[0], df_orig[1]], axis=1).max(axis=1)\n",
    "\n",
    "df_noisy = pd.DataFrame(np.concatenate(noisy_preds))\n",
    "df_noisy['uncertainty'] = np.concatenate(noisy_uncertainties,axis=1).reshape(-1,1)\n",
    "df_noisy['true'] = np.concatenate(noisy_true)\n",
    "df_noisy['pred'] = 0\n",
    "df_noisy['pred'].loc[df_noisy[1] >.5] = 1\n",
    "df_noisy['correct'] = df_noisy['true'] == df_noisy['pred']\n",
    "df_noisy['confidence'] = pd.concat([df_noisy[0], df_noisy[1]], axis=1).max(axis=1)\n",
    "\n",
    "df_adv = pd.DataFrame(np.concatenate(adv_preds))\n",
    "df_adv['uncertainty'] = np.concatenate(adv_uncertainties,axis=1).reshape(-1,1)\n",
    "df_adv['true'] = np.concatenate(adv_true)\n",
    "df_adv['pred'] = 0\n",
    "df_adv['pred'].loc[df_adv[1] >.5] = 1\n",
    "df_adv['correct'] = df_adv['true'] == df_adv['pred']\n",
    "df_adv['confidence'] = pd.concat([df_adv[0], df_adv[1]], axis=1).max(axis=1)"
   ]
  },
  {
   "cell_type": "code",
   "execution_count": 138,
   "metadata": {},
   "outputs": [
    {
     "name": "stdout",
     "output_type": "stream",
     "text": [
      "1\n",
      "(0.0, 0.1]    14720\n",
      "(0.1, 0.2]       42\n",
      "(0.2, 0.3]       13\n",
      "(0.3, 0.4]        3\n",
      "(0.4, 0.5]        2\n",
      "(0.5, 0.6]        2\n",
      "(0.6, 0.7]        3\n",
      "(0.7, 0.8]       13\n",
      "(0.8, 0.9]       42\n",
      "(0.9, 1.0]    14720\n",
      "Name: count, dtype: int64\n",
      "ECE: 0.10104194857916106\n"
     ]
    },
    {
     "data": {
      "image/png": "[encoded data removed]",
      "text/plain": [
       "<Figure size 432x288 with 1 Axes>"
      ]
     },
     "metadata": {
      "needs_background": "light"
     },
     "output_type": "display_data"
    }
   ],
   "source": [
    "bins = [0,.1,.2,.3,.4,.5,.6,.7,.8,.9,1]\n",
    "df_orig['count'] = 1\n",
    "grouped0 = df_orig.copy().groupby(pd.cut(df_orig[0], bins)).sum()\n",
    "grouped1 = df_orig.copy().groupby(pd.cut(df_orig[1], bins)).sum()\n",
    "total_correct = grouped1['true'] + (grouped0['count'] - grouped0['true'])\n",
    "plt.bar(np.arange(1,11), total_correct/(grouped1['count'] + grouped0['count']))\n",
    "plt.xticks(np.arange(1,11), [str(bins[i+1]) for i in range(10)])\n",
    "plt.xlabel(\"Confidence\")\n",
    "plt.ylabel(\"Accuracy\")\n",
    "print(grouped1['count'] + grouped0['count'])\n",
    "acc = total_correct/(grouped1['count'] + grouped0['count'])\n",
    "conf = [(bins[i] + bins[i+1]) / 2 for i in range(10)]\n",
    "n = sum(grouped0['count'])\n",
    "counts = grouped1['count'] + grouped0['count']\n",
    "ece = sum(counts / n * np.abs(acc - conf))\n",
    "print(f\"ECE: {ece}\")\n",
    "plt.savefig('unaltered_calibration.png',dpi=400)"
   ]
  },
  {
   "cell_type": "code",
   "execution_count": 137,
   "metadata": {},
   "outputs": [
    {
     "name": "stdout",
     "output_type": "stream",
     "text": [
      "ECE: 0.24555073035925776\n"
     ]
    },
    {
     "data": {
      "image/png": "[encoded data removed]",
      "text/plain": [
       "<Figure size 432x288 with 1 Axes>"
      ]
     },
     "metadata": {
      "needs_background": "light"
     },
     "output_type": "display_data"
    }
   ],
   "source": [
    "bins = [0,.1,.2,.3,.4,.5,.6,.7,.8,.9,1]\n",
    "df_noisy['count'] = 1\n",
    "grouped0 = df_noisy.copy().groupby(pd.cut(df_noisy[0], bins)).sum()\n",
    "grouped1 = df_noisy.copy().groupby(pd.cut(df_noisy[1], bins)).sum()\n",
    "total_correct = grouped1['true'] + (grouped0['count'] - grouped0['true'])\n",
    "plt.bar(np.arange(1,11), total_correct/(grouped1['count'] + grouped0['count']))\n",
    "plt.xticks(np.arange(1,11), [str(bins[i+1]) for i in range(10)])\n",
    "plt.xlabel(\"Confidence\")\n",
    "plt.ylabel(\"Accuracy\")\n",
    "acc = total_correct/(grouped1['count'] + grouped0['count'])\n",
    "conf = [(bins[i] + bins[i+1]) / 2 for i in range(10)]\n",
    "n = sum(grouped0['count'])\n",
    "counts = grouped1['count'] + grouped0['count']\n",
    "ece = sum(counts / n * np.abs(acc - conf))\n",
    "print(f\"ECE: {ece}\")\n",
    "plt.savefig('noisy_calibration.png',dpi=400)"
   ]
  },
  {
   "cell_type": "code",
   "execution_count": 136,
   "metadata": {},
   "outputs": [
    {
     "name": "stdout",
     "output_type": "stream",
     "text": [
      "1\n",
      "(0.0, 0.1]    12148\n",
      "(0.1, 0.2]     4702\n",
      "(0.2, 0.3]     3286\n",
      "(0.3, 0.4]     3683\n",
      "(0.4, 0.5]     9846\n",
      "(0.5, 0.6]     9846\n",
      "(0.6, 0.7]     3683\n",
      "(0.7, 0.8]     3286\n",
      "(0.8, 0.9]     4702\n",
      "(0.9, 1.0]    12148\n",
      "Name: count, dtype: int64\n",
      "ECE: 0.09075003713055102\n"
     ]
    },
    {
     "data": {
      "image/png": "[encoded data removed]",
      "text/plain": [
       "<Figure size 432x288 with 1 Axes>"
      ]
     },
     "metadata": {
      "needs_background": "light"
     },
     "output_type": "display_data"
    }
   ],
   "source": [
    "bins = [0,.1,.2,.3,.4,.5,.6,.7,.8,.9,1]\n",
    "df_adv['count'] = 1\n",
    "grouped0 = df_adv.copy().groupby(pd.cut(df_adv[0], bins)).sum()\n",
    "grouped1 = df_adv.copy().groupby(pd.cut(df_adv[1], bins)).sum()\n",
    "total_correct = grouped1['true'] + (grouped0['count'] - grouped0['true'])\n",
    "plt.bar(np.arange(1,11), total_correct/(grouped1['count'] + grouped0['count']))\n",
    "plt.xticks(np.arange(1,11), [str(bins[i+1]) for i in range(10)])\n",
    "plt.xlabel(\"Confidence\")\n",
    "plt.ylabel(\"Accuracy\")\n",
    "print(grouped1['count'] + grouped0['count'])\n",
    "acc = total_correct/(grouped1['count'] + grouped0['count'])\n",
    "conf = [(bins[i] + bins[i+1]) / 2 for i in range(10)]\n",
    "n = sum(grouped0['count'])\n",
    "counts = grouped1['count'] + grouped0['count']\n",
    "ece = sum(counts / n * np.abs(acc - conf))\n",
    "print(f\"ECE: {ece}\")\n",
    "plt.savefig('adversarial_calibration.png',dpi=400)"
   ]
  },
  {
   "cell_type": "code",
   "execution_count": 102,
   "metadata": {},
   "outputs": [
    {
     "name": "stderr",
     "output_type": "stream",
     "text": [
      "/usr/local/lib/python3.9/site-packages/pandas/core/indexing.py:1732: SettingWithCopyWarning: \n",
      "A value is trying to be set on a copy of a slice from a DataFrame\n",
      "\n",
      "See the caveats in the documentation: https://pandas.pydata.org/pandas-docs/stable/user_guide/indexing.html#returning-a-view-versus-a-copy\n",
      "  self._setitem_single_block(indexer, value, name)\n"
     ]
    }
   ],
   "source": [
    "# Then, join all of them in a dataframe\n",
    "\n",
    "all_preds = [X_orig_preds,X_white_noise_preds,X_motion_blur_preds,\n",
    "X_reduced_contrast_preds, X_pgd10_preds,X_pgd25_preds,X_pgd50_preds,X_pgd100_preds,X_fgm10_preds,X_fgm25_preds,X_fgm50_preds,X_fgm100_preds]\n",
    "all_uncertainties = [u_orig,u_white_noise,u_motion_blur,u_reduced_contrast, u_pgd10,u_pgd25,u_pgd50,u_pgd100,u_fgm10,u_fgm25,u_fgm50,u_fgm100]\n",
    "all_true = [Y_orig, Y_white_noise,Y_motion_blur,\n",
    "Y_reduced_contrast, Y_pgd10,Y_pgd25,Y_pgd50,Y_pgd100,Y_fgm10,Y_fgm25,Y_fgm50,Y_fgm100]\n",
    "\n",
    "\n",
    "df = pd.DataFrame(np.concatenate(all_preds))\n",
    "df['uncertainty'] = np.concatenate(all_uncertainties,axis=1).reshape(-1,1)\n",
    "df['true'] = np.concatenate(all_true)\n",
    "df['pred'] = 0\n",
    "df['pred'].loc[df[1] >.5] = 1\n",
    "df['correct'] = df['true'] == df['pred']\n",
    "df['confidence'] = pd.concat([df[0], df[1]], axis=1).max(axis=1)\n",
    "\n",
    "# dfa = pd.DataFrame(np.concatenate(adv_preds))\n",
    "# dfa['uncertainty'] = np.concatenate(adv_uncertainties,axis=1).reshape(-1,1)\n",
    "# dfa['true'] = np.concatenate(adv_true)\n",
    "# dfa['pred'] = 0\n",
    "# dfa['pred'].loc[dfa[1] >.5] = 1\n",
    "# dfa['correct'] = dfa['true'] == dfa['pred']\n",
    "# dfa['confidence'] = pd.concat([dfa[0], dfa[1]], axis=1).max(axis=1)"
   ]
  },
  {
   "cell_type": "markdown",
   "metadata": {},
   "source": [
    "Now that we have this data, we want to plot graphs of the accuracy of probabilities at different uncertainty levels."
   ]
  },
  {
   "cell_type": "code",
   "execution_count": 135,
   "metadata": {},
   "outputs": [
    {
     "name": "stdout",
     "output_type": "stream",
     "text": [
      "1\n",
      "(0.0, 0.1]    8029\n",
      "(0.1, 0.2]       0\n",
      "(0.2, 0.3]       0\n",
      "(0.3, 0.4]       0\n",
      "(0.4, 0.5]       0\n",
      "(0.5, 0.6]       0\n",
      "(0.6, 0.7]       0\n",
      "(0.7, 0.8]       0\n",
      "(0.8, 0.9]       0\n",
      "(0.9, 1.0]    8029\n",
      "Name: count, dtype: int64\n",
      "ECE: nan\n"
     ]
    },
    {
     "data": {
      "image/png": "[encoded data removed]",
      "text/plain": [
       "<Figure size 432x288 with 1 Axes>"
      ]
     },
     "metadata": {
      "needs_background": "light"
     },
     "output_type": "display_data"
    }
   ],
   "source": [
    "# plotting probabilities that the result is a 1\n",
    "low = 0\n",
    "high = .2\n",
    "bins = [0,.1,.2,.3,.4,.5,.6,.7,.8,.9,1]\n",
    "t = df.loc[(df['uncertainty']>low) & (df['uncertainty']<=high)].copy()\n",
    "t['count'] = 1\n",
    "grouped0 = t.copy().groupby(pd.cut(t[0], bins)).sum()\n",
    "grouped1 = t.copy().groupby(pd.cut(t[1], bins)).sum()\n",
    "total_correct = grouped1['true'] + (grouped0['count'] - grouped0['true'])\n",
    "plt.bar(np.arange(1,11), total_correct/(grouped1['count'] + grouped0['count']))\n",
    "plt.xticks(np.arange(1,11), [str(bins[i+1]) for i in range(10)])\n",
    "plt.xlabel(\"Confidence\")\n",
    "plt.ylabel(\"Accuracy\")\n",
    "print(grouped1['count'] + grouped0['count'])\n",
    "\n",
    "acc = total_correct/(grouped1['count'] + grouped0['count'])\n",
    "conf = [(bins[i] + bins[i+1]) / 2 for i in range(10)]\n",
    "n = sum(grouped0['count'])\n",
    "counts = grouped1['count'] + grouped0['count']\n",
    "ece = sum(counts / n * np.abs(acc - conf))\n",
    "print(f\"ECE: {ece}\")\n",
    "plt.savefig('all_calibration2.png',dpi=400)"
   ]
  },
  {
   "cell_type": "code",
   "execution_count": 134,
   "metadata": {},
   "outputs": [
    {
     "name": "stdout",
     "output_type": "stream",
     "text": [
      "1\n",
      "(0.0, 0.1]    30509\n",
      "(0.1, 0.2]     9222\n",
      "(0.2, 0.3]     2405\n",
      "(0.3, 0.4]     2229\n",
      "(0.4, 0.5]     3391\n",
      "(0.5, 0.6]     3391\n",
      "(0.6, 0.7]     2229\n",
      "(0.7, 0.8]     2405\n",
      "(0.8, 0.9]     9222\n",
      "(0.9, 1.0]    30509\n",
      "Name: count, dtype: int64\n",
      "ECE: 0.17676941117346517\n"
     ]
    },
    {
     "data": {
      "image/png": "[encoded data removed]",
      "text/plain": [
       "<Figure size 432x288 with 1 Axes>"
      ]
     },
     "metadata": {
      "needs_background": "light"
     },
     "output_type": "display_data"
    }
   ],
   "source": [
    "low = .2\n",
    "high = .4\n",
    "bins = [0,.1,.2,.3,.4,.5,.6,.7,.8,.9,1]\n",
    "t = df.loc[(df['uncertainty']>low) & (df['uncertainty']<=high)].copy()\n",
    "t['count'] = 1\n",
    "grouped0 = t.copy().groupby(pd.cut(t[0], bins)).sum()\n",
    "grouped1 = t.copy().groupby(pd.cut(t[1], bins)).sum()\n",
    "total_correct = grouped1['true'] + (grouped0['count'] - grouped0['true'])\n",
    "plt.bar(np.arange(1,11), total_correct/(grouped1['count'] + grouped0['count']))\n",
    "plt.xticks(np.arange(1,11), [str(bins[i+1]) for i in range(10)])\n",
    "plt.xlabel(\"Confidence\")\n",
    "plt.ylabel(\"Accuracy\")\n",
    "print(grouped1['count'] + grouped0['count'])\n",
    "\n",
    "acc = total_correct/(grouped1['count'] + grouped0['count'])\n",
    "conf = [(bins[i] + bins[i+1]) / 2 for i in range(10)]\n",
    "n = sum(grouped0['count'])\n",
    "counts = grouped1['count'] + grouped0['count']\n",
    "ece = sum(counts / n * np.abs(acc - conf))\n",
    "print(f\"ECE: {ece}\")\n",
    "plt.savefig('all_calibration4.png',dpi=400)\n"
   ]
  },
  {
   "cell_type": "code",
   "execution_count": 133,
   "metadata": {},
   "outputs": [
    {
     "name": "stdout",
     "output_type": "stream",
     "text": [
      "1\n",
      "(0.0, 0.1]    3670\n",
      "(0.1, 0.2]    4548\n",
      "(0.2, 0.3]    3323\n",
      "(0.3, 0.4]    2309\n",
      "(0.4, 0.5]    1829\n",
      "(0.5, 0.6]    1829\n",
      "(0.6, 0.7]    2309\n",
      "(0.7, 0.8]    3323\n",
      "(0.8, 0.9]    4548\n",
      "(0.9, 1.0]    3670\n",
      "Name: count, dtype: int64\n",
      "ECE: 0.24813444734995857\n"
     ]
    },
    {
     "data": {
      "image/png": "[encoded data removed]",
      "text/plain": [
       "<Figure size 432x288 with 1 Axes>"
      ]
     },
     "metadata": {
      "needs_background": "light"
     },
     "output_type": "display_data"
    }
   ],
   "source": [
    "low = .4\n",
    "high = .6\n",
    "bins = [0,.1,.2,.3,.4,.5,.6,.7,.8,.9,1]\n",
    "t = df.loc[(df['uncertainty']>low) & (df['uncertainty']<=high)].copy()\n",
    "t['count'] = 1\n",
    "grouped0 = t.copy().groupby(pd.cut(t[0], bins)).sum()\n",
    "grouped1 = t.copy().groupby(pd.cut(t[1], bins)).sum()\n",
    "total_correct = grouped1['true'] + (grouped0['count'] - grouped0['true'])\n",
    "plt.bar(np.arange(1,11), total_correct/(grouped1['count'] + grouped0['count']))\n",
    "plt.xticks(np.arange(1,11), [str(bins[i+1]) for i in range(10)])\n",
    "plt.xlabel(\"Confidence\")\n",
    "plt.ylabel(\"Accuracy\")\n",
    "print(grouped1['count'] + grouped0['count'])\n",
    "\n",
    "acc = total_correct/(grouped1['count'] + grouped0['count'])\n",
    "conf = [(bins[i] + bins[i+1]) / 2 for i in range(10)]\n",
    "n = sum(grouped0['count'])\n",
    "counts = grouped1['count'] + grouped0['count']\n",
    "ece = sum(counts / n * np.abs(acc - conf))\n",
    "print(f\"ECE: {ece}\")\n",
    "plt.savefig('all_calibration6.png',dpi=400)\n"
   ]
  },
  {
   "cell_type": "code",
   "execution_count": 78,
   "metadata": {},
   "outputs": [
    {
     "data": {
      "text/html": [
       "<div>\n",
       "<style scoped>\n",
       "    .dataframe tbody tr th:only-of-type {\n",
       "        vertical-align: middle;\n",
       "    }\n",
       "\n",
       "    .dataframe tbody tr th {\n",
       "        vertical-align: top;\n",
       "    }\n",
       "\n",
       "    .dataframe thead th {\n",
       "        text-align: right;\n",
       "    }\n",
       "</style>\n",
       "<table border=\"1\" class=\"dataframe\">\n",
       "  <thead>\n",
       "    <tr style=\"text-align: right;\">\n",
       "      <th></th>\n",
       "      <th>0</th>\n",
       "      <th>1</th>\n",
       "      <th>uncertainty</th>\n",
       "      <th>true</th>\n",
       "      <th>pred</th>\n",
       "      <th>correct</th>\n",
       "      <th>confidence</th>\n",
       "    </tr>\n",
       "  </thead>\n",
       "  <tbody>\n",
       "  </tbody>\n",
       "</table>\n",
       "</div>"
      ],
      "text/plain": [
       "Empty DataFrame\n",
       "Columns: [0, 1, uncertainty, true, pred, correct, confidence]\n",
       "Index: []"
      ]
     },
     "execution_count": 78,
     "metadata": {},
     "output_type": "execute_result"
    }
   ],
   "source": [
    "low = .4\n",
    "high = .5\n",
    "t = df.loc[(df['uncertainty']>low) & (df['uncertainty']<=high)].copy()\n",
    "t.loc[(t['confidence']>0.5) & (t['confidence']<=0.6) & (t['true']==1)]"
   ]
  },
  {
   "cell_type": "code",
   "execution_count": 132,
   "metadata": {},
   "outputs": [
    {
     "name": "stdout",
     "output_type": "stream",
     "text": [
      "1\n",
      "(0.0, 0.1]    673\n",
      "(0.1, 0.2]    672\n",
      "(0.2, 0.3]    644\n",
      "(0.3, 0.4]    838\n",
      "(0.4, 0.5]    881\n",
      "(0.5, 0.6]    881\n",
      "(0.6, 0.7]    838\n",
      "(0.7, 0.8]    644\n",
      "(0.8, 0.9]    672\n",
      "(0.9, 1.0]    673\n",
      "Name: count, dtype: int64\n",
      "ECE: 0.08883495145631068\n"
     ]
    },
    {
     "data": {
      "image/png": "[encoded data removed]",
      "text/plain": [
       "<Figure size 432x288 with 1 Axes>"
      ]
     },
     "metadata": {
      "needs_background": "light"
     },
     "output_type": "display_data"
    }
   ],
   "source": [
    "low = .6\n",
    "high = .8\n",
    "bins = [0,.1,.2,.3,.4,.5,.6,.7,.8,.9,1]\n",
    "t = df.loc[(df['uncertainty']>low) & (df['uncertainty']<=high)].copy()\n",
    "t['count'] = 1\n",
    "grouped0 = t.copy().groupby(pd.cut(t[0], bins)).sum()\n",
    "grouped1 = t.copy().groupby(pd.cut(t[1], bins)).sum()\n",
    "total_correct = grouped1['true'] + (grouped0['count'] - grouped0['true'])\n",
    "plt.bar(np.arange(1,11), total_correct/(grouped1['count'] + grouped0['count']))\n",
    "plt.xticks(np.arange(1,11), [str(bins[i+1]) for i in range(10)])\n",
    "plt.xlabel(\"Confidence\")\n",
    "plt.ylabel(\"Accuracy\")\n",
    "print(grouped1['count'] + grouped0['count'])\n",
    "\n",
    "acc = total_correct/(grouped1['count'] + grouped0['count'])\n",
    "conf = [(bins[i] + bins[i+1]) / 2 for i in range(10)]\n",
    "n = sum(grouped0['count'])\n",
    "counts = grouped1['count'] + grouped0['count']\n",
    "ece = sum(counts / n * np.abs(acc - conf))\n",
    "print(f\"ECE: {ece}\")\n",
    "plt.savefig('all_calibration8.png',dpi=400)"
   ]
  },
  {
   "cell_type": "code",
   "execution_count": 131,
   "metadata": {},
   "outputs": [
    {
     "name": "stdout",
     "output_type": "stream",
     "text": [
      "1\n",
      "(0.0, 0.1]      11\n",
      "(0.1, 0.2]     197\n",
      "(0.2, 0.3]     484\n",
      "(0.3, 0.4]    1129\n",
      "(0.4, 0.5]    7332\n",
      "(0.5, 0.6]    7332\n",
      "(0.6, 0.7]    1129\n",
      "(0.7, 0.8]     484\n",
      "(0.8, 0.9]     197\n",
      "(0.9, 1.0]      11\n",
      "Name: count, dtype: int64\n",
      "ECE: 0.020441385338140515\n"
     ]
    },
    {
     "data": {
      "image/png": "[encoded data removed]",
      "text/plain": [
       "<Figure size 432x288 with 1 Axes>"
      ]
     },
     "metadata": {
      "needs_background": "light"
     },
     "output_type": "display_data"
    }
   ],
   "source": [
    "low = .8\n",
    "high = 1.1\n",
    "bins = [0,.1,.2,.3,.4,.5,.6,.7,.8,.9,1]\n",
    "t = df.loc[(df['uncertainty']>low) & (df['uncertainty']<=high)].copy()\n",
    "t['count'] = 1\n",
    "grouped0 = t.copy().groupby(pd.cut(t[0], bins)).sum()\n",
    "grouped1 = t.copy().groupby(pd.cut(t[1], bins)).sum()\n",
    "total_correct = grouped1['true'] + (grouped0['count'] - grouped0['true'])\n",
    "plt.bar(np.arange(1,11), total_correct/(grouped1['count'] + grouped0['count']))\n",
    "plt.xticks(np.arange(1,11), [str(bins[i+1]) for i in range(10)])\n",
    "plt.xlabel(\"Confidence\")\n",
    "plt.ylabel(\"Accuracy\")\n",
    "print(grouped1['count'] + grouped0['count'])\n",
    "\n",
    "acc = total_correct/(grouped1['count'] + grouped0['count'])\n",
    "conf = [(bins[i] + bins[i+1]) / 2 for i in range(10)]\n",
    "n = sum(grouped0['count'])\n",
    "counts = grouped1['count'] + grouped0['count']\n",
    "ece = sum(counts / n * np.abs(acc - conf))\n",
    "print(f\"ECE: {ece}\")\n",
    "plt.savefig('all_calibration11.png',dpi=400)"
   ]
  },
  {
   "cell_type": "markdown",
   "metadata": {},
   "source": [
    "So far from this, it seems like high uncertainty doesn't have a huge effect on how good the trend is.  Uncertainty between .5 and .6 looks the best, maybe too little data on the really low end but high end still isn't too bad."
   ]
  },
  {
   "cell_type": "markdown",
   "metadata": {},
   "source": [
    "Next, we want to look at how this model could be scored if it is able to \"abstain\" from making a prediction. F1 may not be good because that looks at the outputs, not the epistemic uncertainty. Why would you abstain based on epistemic then? Unless there were a big dropoff somewhere e.g. .6 prob and high uncertainty actually meant less than .6 probs"
   ]
  },
  {
   "cell_type": "markdown",
   "metadata": {},
   "source": [
    "Also, by law of large numbers everything should do equally well. It makes sense that anything with super low uncertainty will be pretty confident as well-- it's not like there can actually be a 50/50 chance that something is a 0 or a 1. Also, I can't think of a situation when it really makes sense to abstain based on epistemic uncertainty. Even if uncertainty is high but confidence is also high, it's still pretty likely that the result will be the same as the prediction."
   ]
  },
  {
   "cell_type": "markdown",
   "metadata": {},
   "source": [
    "# Loss\n",
    "As another evaluation metric, we should consider how to evaluate a model that can abstain from making predictions as well. If we consider a situation where it is worse to make an incorrect prediction than it is to avoid making a prediction at all, then maybe we can take advantage of our knowledge of the epistemic uncertainty at a given point as well as the confidence score given by our model.\n",
    "\n",
    "Confidence alone may not be enough because it is well known that many models, including neural networks, are not generally well calibrated to calculate true probabilities. \n",
    "\n",
    "We'll define a loss function where we lose 1 point for abstaining from a prediction, and 2 points for an incorrect prediction. Then, we can explore if the extra information about epistemic uncertainty helps us improve."
   ]
  },
  {
   "cell_type": "code",
   "execution_count": 59,
   "metadata": {},
   "outputs": [],
   "source": [
    "# first, we look at what happens when we don't take into account epistemic uncertainty\n",
    "def loss(gpc, x, y):\n",
    "    preds = gpc.predict_proba(x)\n",
    "    loss = 0\n",
    "    for i,a in enumerate(preds):\n",
    "        conf = max(a)\n",
    "        if conf > 2/3:\n",
    "            if np.argmax(a) != y[i]:\n",
    "                loss += 2\n",
    "        else:\n",
    "            loss += 1\n",
    "    return loss"
   ]
  },
  {
   "cell_type": "code",
   "execution_count": 63,
   "metadata": {},
   "outputs": [
    {
     "data": {
      "text/plain": [
       "0"
      ]
     },
     "execution_count": 63,
     "metadata": {},
     "output_type": "execute_result"
    }
   ],
   "source": [
    "loss(gpc, X_test, Y_test)"
   ]
  },
  {
   "cell_type": "code",
   "execution_count": 64,
   "metadata": {},
   "outputs": [
    {
     "data": {
      "text/plain": [
       "6414"
      ]
     },
     "execution_count": 64,
     "metadata": {},
     "output_type": "execute_result"
    }
   ],
   "source": [
    "loss(gpc, X_reduced_contrast, Y_reduced_contrast)"
   ]
  },
  {
   "cell_type": "code",
   "execution_count": 65,
   "metadata": {},
   "outputs": [
    {
     "data": {
      "text/plain": [
       "1500"
      ]
     },
     "execution_count": 65,
     "metadata": {},
     "output_type": "execute_result"
    }
   ],
   "source": [
    "loss(gpc, X_pgd100, Y_pgd100)"
   ]
  },
  {
   "cell_type": "code",
   "execution_count": 66,
   "metadata": {},
   "outputs": [
    {
     "data": {
      "text/plain": [
       "1500"
      ]
     },
     "execution_count": 66,
     "metadata": {},
     "output_type": "execute_result"
    }
   ],
   "source": [
    "# how do I learn the curve between confidence cutoff and uncertainty ? But that's basically what I need to do to see if there's something better with this "
   ]
  },
  {
   "cell_type": "code",
   "execution_count": null,
   "metadata": {},
   "outputs": [],
   "source": []
  }
 ],
 "metadata": {
  "interpreter": {
   "hash": "949777d72b0d2535278d3dc13498b2535136f6dfe0678499012e853ee9abcab1"
  },
  "kernelspec": {
   "display_name": "Python 3.9.9 64-bit",
   "language": "python",
   "name": "python3"
  },
  "language_info": {
   "codemirror_mode": {
    "name": "ipython",
    "version": 3
   },
   "file_extension": ".py",
   "mimetype": "text/x-python",
   "name": "python",
   "nbconvert_exporter": "python",
   "pygments_lexer": "ipython3",
   "version": "3.9.9"
  },
  "orig_nbformat": 4
 },
 "nbformat": 4,
 "nbformat_minor": 2
}
